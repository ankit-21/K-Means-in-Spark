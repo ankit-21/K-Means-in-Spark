{
 "cells": [
  {
   "cell_type": "code",
   "execution_count": 1,
   "metadata": {},
   "outputs": [],
   "source": [
    "import os\n",
    "os.environ[\"JAVA_HOME\"] = \"C:/Java/jdk1.8.0_261\"\n",
    "os.environ[\"SPARK_HOME\"] = \"D:/Spark/spark-3.0.1-bin-hadoop2.7\""
   ]
  },
  {
   "cell_type": "code",
   "execution_count": 2,
   "metadata": {},
   "outputs": [],
   "source": [
    "import findspark\n",
    "findspark.init()\n",
    "from pyspark.sql import SparkSession\n",
    "spark = SparkSession.builder.master(\"local[*]\").getOrCreate()"
   ]
  },
  {
   "cell_type": "code",
   "execution_count": 3,
   "metadata": {},
   "outputs": [],
   "source": [
    "from pyspark.ml.clustering import KMeans\n",
    "from pyspark.ml.evaluation import ClusteringEvaluator\n",
    "from pyspark.ml.linalg import Vectors\n",
    "from pyspark.ml.feature import StringIndexer\n",
    "import matplotlib.pyplot as plt"
   ]
  },
  {
   "cell_type": "code",
   "execution_count": 4,
   "metadata": {},
   "outputs": [
    {
     "name": "stdout",
     "output_type": "stream",
     "text": [
      "+-------------+------------+-------------+------------+-----------+\n",
      "|SepalLengthCm|SepalWidthCm|PetalLengthCm|PetalWidthCm|    Species|\n",
      "+-------------+------------+-------------+------------+-----------+\n",
      "|          5.1|         3.5|          1.4|         0.2|Iris-setosa|\n",
      "|          4.9|         3.0|          1.4|         0.2|Iris-setosa|\n",
      "|          4.7|         3.2|          1.3|         0.2|Iris-setosa|\n",
      "|          4.6|         3.1|          1.5|         0.2|Iris-setosa|\n",
      "|          5.0|         3.6|          1.4|         0.2|Iris-setosa|\n",
      "|          5.4|         3.9|          1.7|         0.4|Iris-setosa|\n",
      "|          4.6|         3.4|          1.4|         0.3|Iris-setosa|\n",
      "|          5.0|         3.4|          1.5|         0.2|Iris-setosa|\n",
      "|          4.4|         2.9|          1.4|         0.2|Iris-setosa|\n",
      "|          4.9|         3.1|          1.5|         0.1|Iris-setosa|\n",
      "|          5.4|         3.7|          1.5|         0.2|Iris-setosa|\n",
      "|          4.8|         3.4|          1.6|         0.2|Iris-setosa|\n",
      "|          4.8|         3.0|          1.4|         0.1|Iris-setosa|\n",
      "|          4.3|         3.0|          1.1|         0.1|Iris-setosa|\n",
      "|          5.8|         4.0|          1.2|         0.2|Iris-setosa|\n",
      "|          5.7|         4.4|          1.5|         0.4|Iris-setosa|\n",
      "|          5.4|         3.9|          1.3|         0.4|Iris-setosa|\n",
      "|          5.1|         3.5|          1.4|         0.3|Iris-setosa|\n",
      "|          5.7|         3.8|          1.7|         0.3|Iris-setosa|\n",
      "|          5.1|         3.8|          1.5|         0.3|Iris-setosa|\n",
      "+-------------+------------+-------------+------------+-----------+\n",
      "only showing top 20 rows\n",
      "\n"
     ]
    }
   ],
   "source": [
    "df = spark.read.csv('Iris.csv', inferSchema=True, header=True)\n",
    "df_features = df.select(['SepalLengthCm', 'SepalWidthCm', 'PetalLengthCm', 'PetalWidthCm', 'Species'])\n",
    "df_features.show()"
   ]
  },
  {
   "cell_type": "code",
   "execution_count": 5,
   "metadata": {},
   "outputs": [],
   "source": [
    "# encoding categorical data column \"Species\" with integer column \"SpeciesIndex\"\n",
    "\n",
    "indexer = StringIndexer(inputCol=\"Species\", outputCol=\"SpeciesIndex\")\n",
    "indexed = indexer.fit(df_features).transform(df_features)"
   ]
  },
  {
   "cell_type": "code",
   "execution_count": 6,
   "metadata": {},
   "outputs": [
    {
     "name": "stdout",
     "output_type": "stream",
     "text": [
      "+-------------+------------+-------------+------------+------------+\n",
      "|SepalLengthCm|SepalWidthCm|PetalLengthCm|PetalWidthCm|SpeciesIndex|\n",
      "+-------------+------------+-------------+------------+------------+\n",
      "|          5.1|         3.5|          1.4|         0.2|         0.0|\n",
      "|          4.9|         3.0|          1.4|         0.2|         0.0|\n",
      "|          4.7|         3.2|          1.3|         0.2|         0.0|\n",
      "|          4.6|         3.1|          1.5|         0.2|         0.0|\n",
      "|          5.0|         3.6|          1.4|         0.2|         0.0|\n",
      "|          5.4|         3.9|          1.7|         0.4|         0.0|\n",
      "|          4.6|         3.4|          1.4|         0.3|         0.0|\n",
      "|          5.0|         3.4|          1.5|         0.2|         0.0|\n",
      "|          4.4|         2.9|          1.4|         0.2|         0.0|\n",
      "|          4.9|         3.1|          1.5|         0.1|         0.0|\n",
      "|          5.4|         3.7|          1.5|         0.2|         0.0|\n",
      "|          4.8|         3.4|          1.6|         0.2|         0.0|\n",
      "|          4.8|         3.0|          1.4|         0.1|         0.0|\n",
      "|          4.3|         3.0|          1.1|         0.1|         0.0|\n",
      "|          5.8|         4.0|          1.2|         0.2|         0.0|\n",
      "|          5.7|         4.4|          1.5|         0.4|         0.0|\n",
      "|          5.4|         3.9|          1.3|         0.4|         0.0|\n",
      "|          5.1|         3.5|          1.4|         0.3|         0.0|\n",
      "|          5.7|         3.8|          1.7|         0.3|         0.0|\n",
      "|          5.1|         3.8|          1.5|         0.3|         0.0|\n",
      "+-------------+------------+-------------+------------+------------+\n",
      "only showing top 20 rows\n",
      "\n"
     ]
    }
   ],
   "source": [
    "# selecting the relevant columns for K-Means clustering\n",
    "\n",
    "df_final = indexed.select(['SepalLengthCm', 'SepalWidthCm', 'PetalLengthCm', 'PetalWidthCm', 'SpeciesIndex'])\n",
    "df_final.show()"
   ]
  },
  {
   "cell_type": "code",
   "execution_count": 7,
   "metadata": {},
   "outputs": [
    {
     "name": "stdout",
     "output_type": "stream",
     "text": [
      "+-----------------+-----+\n",
      "|         features|label|\n",
      "+-----------------+-----+\n",
      "|[5.1,3.5,1.4,0.2]|  0.0|\n",
      "|[4.9,3.0,1.4,0.2]|  0.0|\n",
      "|[4.7,3.2,1.3,0.2]|  0.0|\n",
      "|[4.6,3.1,1.5,0.2]|  0.0|\n",
      "|[5.0,3.6,1.4,0.2]|  0.0|\n",
      "|[5.4,3.9,1.7,0.4]|  0.0|\n",
      "|[4.6,3.4,1.4,0.3]|  0.0|\n",
      "|[5.0,3.4,1.5,0.2]|  0.0|\n",
      "|[4.4,2.9,1.4,0.2]|  0.0|\n",
      "|[4.9,3.1,1.5,0.1]|  0.0|\n",
      "|[5.4,3.7,1.5,0.2]|  0.0|\n",
      "|[4.8,3.4,1.6,0.2]|  0.0|\n",
      "|[4.8,3.0,1.4,0.1]|  0.0|\n",
      "|[4.3,3.0,1.1,0.1]|  0.0|\n",
      "|[5.8,4.0,1.2,0.2]|  0.0|\n",
      "|[5.7,4.4,1.5,0.4]|  0.0|\n",
      "|[5.4,3.9,1.3,0.4]|  0.0|\n",
      "|[5.1,3.5,1.4,0.3]|  0.0|\n",
      "|[5.7,3.8,1.7,0.3]|  0.0|\n",
      "|[5.1,3.8,1.5,0.3]|  0.0|\n",
      "+-----------------+-----+\n",
      "only showing top 20 rows\n",
      "\n"
     ]
    }
   ],
   "source": [
    "# Preparing the dataframe for the K-Means. All features need to be vectors in a single column\n",
    "\n",
    "trainingData=df_final.rdd.map(lambda x:(Vectors.dense(x[0:-1]), x[-1])).toDF([\"features\", \"label\"])\n",
    "trainingData.show()"
   ]
  },
  {
   "cell_type": "code",
   "execution_count": 8,
   "metadata": {},
   "outputs": [
    {
     "name": "stdout",
     "output_type": "stream",
     "text": [
      "Silhouette Score = 0.7354567373091194\n"
     ]
    }
   ],
   "source": [
    "# Train a k-means model.\n",
    "kmeans = KMeans().setK(3).setSeed(123457)\n",
    "model = kmeans.fit(trainingData)\n",
    "\n",
    "# Making predictions\n",
    "predictions = model.transform(trainingData)\n",
    "\n",
    "# Evaluate clustering by computing Silhouette score\n",
    "evaluator = ClusteringEvaluator()\n",
    "\n",
    "silhouette = evaluator.evaluate(predictions)\n",
    "print(\"Silhouette Score = \" + str(silhouette))"
   ]
  },
  {
   "cell_type": "code",
   "execution_count": 9,
   "metadata": {},
   "outputs": [
    {
     "name": "stdout",
     "output_type": "stream",
     "text": [
      "Cluster Centers: \n",
      "[5.006 3.418 1.464 0.244]\n",
      "[5.9016129  2.7483871  4.39354839 1.43387097]\n",
      "[6.85       3.07368421 5.74210526 2.07105263]\n"
     ]
    }
   ],
   "source": [
    "# Shows the result.\n",
    "centers = model.clusterCenters()\n",
    "print(\"Cluster Centers: \")\n",
    "for center in centers:\n",
    "    print(center)"
   ]
  },
  {
   "cell_type": "code",
   "execution_count": 10,
   "metadata": {},
   "outputs": [
    {
     "name": "stdout",
     "output_type": "stream",
     "text": [
      "K = 2\n",
      "Silhouette Score = 0.8501515983265806\n",
      "K = 4\n",
      "Silhouette Score = 0.6720731409257744\n",
      "K = 5\n",
      "Silhouette Score = 0.6706851820952463\n",
      "K = 6\n",
      "Silhouette Score = 0.5383681330070867\n",
      "K = 7\n",
      "Silhouette Score = 0.5373436803439575\n",
      "K = 8\n",
      "Silhouette Score = 0.5201944844225137\n",
      "K = 9\n",
      "Silhouette Score = 0.5206541193624177\n",
      "K = 10\n",
      "Silhouette Score = 0.412318808489034\n",
      "K = 11\n",
      "Silhouette Score = 0.4672638777684366\n",
      "K = 12\n",
      "Silhouette Score = 0.45092769842548164\n"
     ]
    }
   ],
   "source": [
    "K = [2, 4, 5, 6, 7, 8, 9, 10, 11, 12]\n",
    "Score_list = []\n",
    "\n",
    "for k in K:\n",
    "    kmeans = KMeans().setK(k).setSeed(123457)\n",
    "    model = kmeans.fit(trainingData)\n",
    "    predictions = model.transform(trainingData)\n",
    "    evaluator = ClusteringEvaluator()\n",
    "\n",
    "    silhouette = evaluator.evaluate(predictions)\n",
    "    Score_list.append(silhouette)\n",
    "    print(\"K = \"+ str(k))\n",
    "    print(\"Silhouette Score = \" + str(silhouette))"
   ]
  },
  {
   "cell_type": "code",
   "execution_count": 11,
   "metadata": {},
   "outputs": [
    {
     "name": "stderr",
     "output_type": "stream",
     "text": [
      "No handles with labels found to put in legend.\n"
     ]
    },
    {
     "data": {
      "image/png": "[encoded data removed]",
      "text/plain": [
       "<Figure size 432x288 with 1 Axes>"
      ]
     },
     "metadata": {
      "needs_background": "light"
     },
     "output_type": "display_data"
    }
   ],
   "source": [
    "# Plotting graph\n",
    "plt.plot(K, Score_list)\n",
    "plt.legend()\n",
    "plt.title('K vs Silhouette Score')\n",
    "plt.xlabel('K')\n",
    "plt.ylabel('Silhouette Score')\n",
    "\n",
    "plt.show()"
   ]
  },
  {
   "cell_type": "markdown",
   "metadata": {},
   "source": [
    "# k = 2 gives the best performance, Silhouette = 0.85"
   ]
  },
  {
   "cell_type": "code",
   "execution_count": null,
   "metadata": {},
   "outputs": [],
   "source": []
  }
 ],
 "metadata": {
  "kernelspec": {
   "display_name": "Python 3",
   "language": "python",
   "name": "python3"
  },
  "language_info": {
   "codemirror_mode": {
    "name": "ipython",
    "version": 3
   },
   "file_extension": ".py",
   "mimetype": "text/x-python",
   "name": "python",
   "nbconvert_exporter": "python",
   "pygments_lexer": "ipython3",
   "version": "3.7.3"
  }
 },
 "nbformat": 4,
 "nbformat_minor": 2
}
